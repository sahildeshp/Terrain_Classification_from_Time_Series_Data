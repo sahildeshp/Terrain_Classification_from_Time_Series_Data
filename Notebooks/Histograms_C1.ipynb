{
  "nbformat": 4,
  "nbformat_minor": 0,
  "metadata": {
    "colab": {
      "name": "Histograms_C1.ipynb",
      "provenance": [],
      "collapsed_sections": []
    },
    "kernelspec": {
      "name": "python3",
      "display_name": "Python 3"
    },
    "language_info": {
      "name": "python"
    }
  },
  "cells": [
    {
      "cell_type": "code",
      "metadata": {
        "id": "U1AK30LJ3TqT"
      },
      "source": [
        "%tensorflow_version 1.x\n",
        "import numpy as np\n",
        "import pandas as pd\n",
        "import tensorflow as tf\n",
        "from keras.utils import to_categorical\n",
        "import sklearn.model_selection as model_selection\n",
        "from sklearn.metrics import f1_score,classification_report\n",
        "from tensorflow.keras.models import Sequential,load_model\n",
        "from tensorflow.keras.layers import Dense,Flatten,Dropout,LSTM,BatchNormalization,TimeDistributed\n",
        "from tensorflow.keras.optimizers import  Adam\n",
        "import matplotlib.pyplot as plt\n",
        "from google.colab import drive\n",
        "from sklearn.preprocessing import StandardScaler"
      ],
      "execution_count": null,
      "outputs": []
    },
    {
      "cell_type": "code",
      "metadata": {
        "id": "EQXdjdHx4Myh"
      },
      "source": [
        "drive.mount('/content/drive',force_remount=True)\n",
        "path=\"/content/drive/MyDrive\""
      ],
      "execution_count": null,
      "outputs": []
    },
    {
      "cell_type": "code",
      "metadata": {
        "colab": {
          "base_uri": "https://localhost:8080/",
          "height": 380
        },
        "id": "SPIPLv4g4y6o",
        "outputId": "1f5bec4b-da4e-4064-b003-a96734fa8865"
      },
      "source": [
        "nine_path=path+\"/ECE542/Project_C1/lstm_5/subject_009_01__y_prediction.csv\"\n",
        "df=pd.read_csv(nine_path)\n",
        "bins= [0,1,2,3,4]\n",
        "plt.hist(df.values, bins=bins, edgecolor=\"k\")\n",
        "plt.text(0.5 ,4000,\"0\")\n",
        "plt.text(1.5, 980,\"1\")\n",
        "plt.text(2.5,980,\"2\")\n",
        "plt.text(3.5,2000,\"3\")\n",
        "plt.xticks(bins)\n"
      ],
      "execution_count": null,
      "outputs": [
        {
          "output_type": "execute_result",
          "data": {
            "text/plain": [
              "([<matplotlib.axis.XTick at 0x7fe4fcd38ed0>,\n",
              "  <matplotlib.axis.XTick at 0x7fe4fcd389d0>,\n",
              "  <matplotlib.axis.XTick at 0x7fe4fcc002d0>,\n",
              "  <matplotlib.axis.XTick at 0x7fe4fc628110>,\n",
              "  <matplotlib.axis.XTick at 0x7fe4fc5c2790>],\n",
              " <a list of 5 Text major ticklabel objects>)"
            ]
          },
          "metadata": {
            "tags": []
          },
          "execution_count": 38
        },
        {
          "output_type": "display_data",
          "data": {
            "image/png": "[encoded data removed]",
            "text/plain": [
              "<Figure size 432x288 with 1 Axes>"
            ]
          },
          "metadata": {
            "tags": [],
            "needs_background": "light"
          }
        }
      ]
    },
    {
      "cell_type": "code",
      "metadata": {
        "colab": {
          "base_uri": "https://localhost:8080/",
          "height": 376
        },
        "id": "k9eH6fRs53gT",
        "outputId": "0d32d178-aa2c-4881-9074-3cf39a492367"
      },
      "source": [
        "ten_path=path+\"/ECE542/Project_C1/lstm_5/subject_010_01__y_prediction.csv\"\n",
        "df=pd.read_csv(ten_path)\n",
        "bins= [0,1,2,3,4]\n",
        "plt.hist(df.values, bins=bins, edgecolor=\"k\")\n",
        "plt.text(0.5 ,4000,\"0\")\n",
        "plt.text(1.5, 980,\"1\")\n",
        "plt.text(2.5,980,\"2\")\n",
        "plt.text(3.5,2000,\"3\")\n",
        "plt.xticks(bins)"
      ],
      "execution_count": null,
      "outputs": [
        {
          "output_type": "execute_result",
          "data": {
            "text/plain": [
              "([<matplotlib.axis.XTick at 0x7fe4fc85d510>,\n",
              "  <matplotlib.axis.XTick at 0x7fe4fc85db10>,\n",
              "  <matplotlib.axis.XTick at 0x7fe4fc878a50>,\n",
              "  <matplotlib.axis.XTick at 0x7fe4fc849610>,\n",
              "  <matplotlib.axis.XTick at 0x7fe4fc849b10>],\n",
              " <a list of 5 Text major ticklabel objects>)"
            ]
          },
          "metadata": {
            "tags": []
          },
          "execution_count": 30
        },
        {
          "output_type": "display_data",
          "data": {
            "image/png": "[encoded data removed]",
            "text/plain": [
              "<Figure size 432x288 with 1 Axes>"
            ]
          },
          "metadata": {
            "tags": [],
            "needs_background": "light"
          }
        }
      ]
    },
    {
      "cell_type": "code",
      "metadata": {
        "colab": {
          "base_uri": "https://localhost:8080/",
          "height": 376
        },
        "id": "vIDktygu6LFn",
        "outputId": "48ef51e5-f289-46df-bc10-7ed81fd1334d"
      },
      "source": [
        "eleven_path=path+\"/ECE542/Project_C1/lstm_5/subject_011_01__y_prediction.csv\"\n",
        "df=pd.read_csv(eleven_path)\n",
        "bins= [0,1,2,3,4]\n",
        "plt.hist(df.values, bins=bins, edgecolor=\"k\")\n",
        "plt.text(0.5 ,4000,\"0\")\n",
        "plt.text(1.5, 980,\"1\")\n",
        "plt.text(2.5,980,\"2\")\n",
        "plt.text(3.5,2400,\"3\")\n",
        "plt.xticks(bins)"
      ],
      "execution_count": null,
      "outputs": [
        {
          "output_type": "execute_result",
          "data": {
            "text/plain": [
              "([<matplotlib.axis.XTick at 0x7fe4fc6fec10>,\n",
              "  <matplotlib.axis.XTick at 0x7fe4fc6c9210>,\n",
              "  <matplotlib.axis.XTick at 0x7fe4fc6c9190>,\n",
              "  <matplotlib.axis.XTick at 0x7fe4fc67ecd0>,\n",
              "  <matplotlib.axis.XTick at 0x7fe4fc689290>],\n",
              " <a list of 5 Text major ticklabel objects>)"
            ]
          },
          "metadata": {
            "tags": []
          },
          "execution_count": 34
        },
        {
          "output_type": "display_data",
          "data": {
            "image/png": "[encoded data removed]",
            "text/plain": [
              "<Figure size 432x288 with 1 Axes>"
            ]
          },
          "metadata": {
            "tags": [],
            "needs_background": "light"
          }
        }
      ]
    },
    {
      "cell_type": "code",
      "metadata": {
        "colab": {
          "base_uri": "https://localhost:8080/",
          "height": 376
        },
        "id": "NTZYyx4J6du2",
        "outputId": "7de52dd0-8b2b-4cef-bbdd-b53b9db77d0b"
      },
      "source": [
        "twelve_path=path+\"/ECE542/Project_C1/lstm_5/subject_012_01__y_prediction.csv\"\n",
        "df=pd.read_csv(twelve_path)\n",
        "bins= [0,1,2,3,4]\n",
        "plt.hist(df.values, bins=bins, edgecolor=\"k\")\n",
        "plt.text(0.5 ,4000,\"0\")\n",
        "plt.text(1.5, 980,\"1\")\n",
        "plt.text(2.5,980,\"2\")\n",
        "plt.text(3.5,2000,\"3\")\n",
        "plt.xticks(bins)"
      ],
      "execution_count": null,
      "outputs": [
        {
          "output_type": "execute_result",
          "data": {
            "text/plain": [
              "([<matplotlib.axis.XTick at 0x7fe4fc750cd0>,\n",
              "  <matplotlib.axis.XTick at 0x7fe4fc750450>,\n",
              "  <matplotlib.axis.XTick at 0x7fe4fc750a50>,\n",
              "  <matplotlib.axis.XTick at 0x7fe4fc5f4350>,\n",
              "  <matplotlib.axis.XTick at 0x7fe4fc5f4850>],\n",
              " <a list of 5 Text major ticklabel objects>)"
            ]
          },
          "metadata": {
            "tags": []
          },
          "execution_count": 35
        },
        {
          "output_type": "display_data",
          "data": {
            "image/png": "[encoded data removed]",
            "text/plain": [
              "<Figure size 432x288 with 1 Axes>"
            ]
          },
          "metadata": {
            "tags": [],
            "needs_background": "light"
          }
        }
      ]
    }
  ]
}